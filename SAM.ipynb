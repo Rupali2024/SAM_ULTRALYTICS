{
  "cells": [
    {
      "cell_type": "markdown",
      "metadata": {
        "id": "G183OtQsFqC7"
      },
      "source": [
        "# **UNZIP FILE**"
      ]
    },
    {
      "cell_type": "code",
      "execution_count": null,
      "metadata": {
        "colab": {
          "base_uri": "https://localhost:8080/"
        },
        "collapsed": true,
        "id": "qX7vvGXhE-Oa",
        "outputId": "187d9829-5d14-4232-c355-c070d5e67f09"
      },
      "outputs": [
        {
          "name": "stdout",
          "output_type": "stream",
          "text": [
            "Archive:  /content/IMAGES_FOR_CREATING_TXT_ANNOTATIONS.zip\n",
            "   creating: IMAGES_FOR_CREATING_TXT_ANNOTATIONS/\n",
            "  inflating: IMAGES_FOR_CREATING_TXT_ANNOTATIONS/Abyssinian_172.png  \n",
            "  inflating: IMAGES_FOR_CREATING_TXT_ANNOTATIONS/Abyssinian_173.png  \n",
            "  inflating: IMAGES_FOR_CREATING_TXT_ANNOTATIONS/Abyssinian_174.png  \n",
            "  inflating: IMAGES_FOR_CREATING_TXT_ANNOTATIONS/Abyssinian_175.png  \n",
            "  inflating: IMAGES_FOR_CREATING_TXT_ANNOTATIONS/Abyssinian_176.png  \n",
            "  inflating: IMAGES_FOR_CREATING_TXT_ANNOTATIONS/British_Shorthair_3.jpg  \n",
            "  inflating: IMAGES_FOR_CREATING_TXT_ANNOTATIONS/British_Shorthair_6.jpg  \n",
            "  inflating: IMAGES_FOR_CREATING_TXT_ANNOTATIONS/British_Shorthair_8.jpg  \n",
            "  inflating: IMAGES_FOR_CREATING_TXT_ANNOTATIONS/British_Shorthair_9.jpg  \n",
            "  inflating: IMAGES_FOR_CREATING_TXT_ANNOTATIONS/British_Shorthair_10.jpg  \n",
            "  inflating: IMAGES_FOR_CREATING_TXT_ANNOTATIONS/British_Shorthair_15.jpg  \n",
            "  inflating: IMAGES_FOR_CREATING_TXT_ANNOTATIONS/British_Shorthair_16.jpg  \n",
            "  inflating: IMAGES_FOR_CREATING_TXT_ANNOTATIONS/British_Shorthair_17.jpg  \n",
            "  inflating: IMAGES_FOR_CREATING_TXT_ANNOTATIONS/British_Shorthair_18.jpg  \n",
            "  inflating: IMAGES_FOR_CREATING_TXT_ANNOTATIONS/British_Shorthair_21.jpg  \n",
            "  inflating: IMAGES_FOR_CREATING_TXT_ANNOTATIONS/British_Shorthair_22.jpg  \n",
            "  inflating: IMAGES_FOR_CREATING_TXT_ANNOTATIONS/British_Shorthair_25.jpg  \n",
            "  inflating: IMAGES_FOR_CREATING_TXT_ANNOTATIONS/British_Shorthair_26.jpg  \n",
            "  inflating: IMAGES_FOR_CREATING_TXT_ANNOTATIONS/British_Shorthair_27.jpg  \n",
            "  inflating: IMAGES_FOR_CREATING_TXT_ANNOTATIONS/British_Shorthair_28.jpg  \n",
            "  inflating: IMAGES_FOR_CREATING_TXT_ANNOTATIONS/British_Shorthair_29.jpg  \n",
            "  inflating: IMAGES_FOR_CREATING_TXT_ANNOTATIONS/British_Shorthair_30.jpg  \n",
            "  inflating: IMAGES_FOR_CREATING_TXT_ANNOTATIONS/British_Shorthair_31.jpg  \n",
            "  inflating: IMAGES_FOR_CREATING_TXT_ANNOTATIONS/British_Shorthair_32.jpg  \n",
            "  inflating: IMAGES_FOR_CREATING_TXT_ANNOTATIONS/British_Shorthair_33.jpg  \n",
            "  inflating: IMAGES_FOR_CREATING_TXT_ANNOTATIONS/British_Shorthair_34.jpg  \n",
            "  inflating: IMAGES_FOR_CREATING_TXT_ANNOTATIONS/British_Shorthair_36.jpg  \n",
            "  inflating: IMAGES_FOR_CREATING_TXT_ANNOTATIONS/British_Shorthair_37.jpg  \n",
            "  inflating: IMAGES_FOR_CREATING_TXT_ANNOTATIONS/British_Shorthair_38.jpg  \n",
            "  inflating: IMAGES_FOR_CREATING_TXT_ANNOTATIONS/British_Shorthair_39.jpg  \n"
          ]
        }
      ],
      "source": [
        "!unzip /content/IMAGES_FOR_CREATING_TXT_ANNOTATIONS.zip"
      ]
    },
    {
      "cell_type": "markdown",
      "metadata": {
        "id": "ZRr1sTuZGkMu"
      },
      "source": [
        "# **INSTALLATION**"
      ]
    },
    {
      "cell_type": "code",
      "execution_count": null,
      "metadata": {
        "colab": {
          "base_uri": "https://localhost:8080/"
        },
        "id": "7rxxgSgzGcZl",
        "outputId": "f6478072-6f2d-4243-adaf-cd1a1e9883c8"
      },
      "outputs": [
        {
          "name": "stdout",
          "output_type": "stream",
          "text": [
            "Collecting ultralytics\n",
            "  Downloading ultralytics-8.2.79-py3-none-any.whl.metadata (41 kB)\n",
            "\u001b[2K     \u001b[90m━━━━━━━━━━━━━━━━━━━━━━━━━━━━━━━━━━━━━━━━\u001b[0m \u001b[32m41.3/41.3 kB\u001b[0m \u001b[31m656.1 kB/s\u001b[0m eta \u001b[36m0:00:00\u001b[0m\n",
            "\u001b[?25hRequirement already satisfied: numpy<2.0.0,>=1.23.0 in /usr/local/lib/python3.10/dist-packages (from ultralytics) (1.26.4)\n",
            "Requirement already satisfied: matplotlib>=3.3.0 in /usr/local/lib/python3.10/dist-packages (from ultralytics) (3.7.1)\n",
            "Requirement already satisfied: opencv-python>=4.6.0 in /usr/local/lib/python3.10/dist-packages (from ultralytics) (4.10.0.84)\n",
            "Requirement already satisfied: pillow>=7.1.2 in /usr/local/lib/python3.10/dist-packages (from ultralytics) (9.4.0)\n",
            "Requirement already satisfied: pyyaml>=5.3.1 in /usr/local/lib/python3.10/dist-packages (from ultralytics) (6.0.2)\n",
            "Requirement already satisfied: requests>=2.23.0 in /usr/local/lib/python3.10/dist-packages (from ultralytics) (2.32.3)\n",
            "Requirement already satisfied: scipy>=1.4.1 in /usr/local/lib/python3.10/dist-packages (from ultralytics) (1.13.1)\n",
            "Requirement already satisfied: torch>=1.8.0 in /usr/local/lib/python3.10/dist-packages (from ultralytics) (2.3.1+cu121)\n",
            "Requirement already satisfied: torchvision>=0.9.0 in /usr/local/lib/python3.10/dist-packages (from ultralytics) (0.18.1+cu121)\n",
            "Requirement already satisfied: tqdm>=4.64.0 in /usr/local/lib/python3.10/dist-packages (from ultralytics) (4.66.5)\n",
            "Requirement already satisfied: psutil in /usr/local/lib/python3.10/dist-packages (from ultralytics) (5.9.5)\n",
            "Requirement already satisfied: py-cpuinfo in /usr/local/lib/python3.10/dist-packages (from ultralytics) (9.0.0)\n",
            "Requirement already satisfied: pandas>=1.1.4 in /usr/local/lib/python3.10/dist-packages (from ultralytics) (2.1.4)\n",
            "Requirement already satisfied: seaborn>=0.11.0 in /usr/local/lib/python3.10/dist-packages (from ultralytics) (0.13.1)\n",
            "Collecting ultralytics-thop>=2.0.0 (from ultralytics)\n",
            "  Downloading ultralytics_thop-2.0.5-py3-none-any.whl.metadata (8.9 kB)\n",
            "Requirement already satisfied: contourpy>=1.0.1 in /usr/local/lib/python3.10/dist-packages (from matplotlib>=3.3.0->ultralytics) (1.2.1)\n",
            "Requirement already satisfied: cycler>=0.10 in /usr/local/lib/python3.10/dist-packages (from matplotlib>=3.3.0->ultralytics) (0.12.1)\n",
            "Requirement already satisfied: fonttools>=4.22.0 in /usr/local/lib/python3.10/dist-packages (from matplotlib>=3.3.0->ultralytics) (4.53.1)\n",
            "Requirement already satisfied: kiwisolver>=1.0.1 in /usr/local/lib/python3.10/dist-packages (from matplotlib>=3.3.0->ultralytics) (1.4.5)\n",
            "Requirement already satisfied: packaging>=20.0 in /usr/local/lib/python3.10/dist-packages (from matplotlib>=3.3.0->ultralytics) (24.1)\n",
            "Requirement already satisfied: pyparsing>=2.3.1 in /usr/local/lib/python3.10/dist-packages (from matplotlib>=3.3.0->ultralytics) (3.1.2)\n",
            "Requirement already satisfied: python-dateutil>=2.7 in /usr/local/lib/python3.10/dist-packages (from matplotlib>=3.3.0->ultralytics) (2.8.2)\n",
            "Requirement already satisfied: pytz>=2020.1 in /usr/local/lib/python3.10/dist-packages (from pandas>=1.1.4->ultralytics) (2024.1)\n",
            "Requirement already satisfied: tzdata>=2022.1 in /usr/local/lib/python3.10/dist-packages (from pandas>=1.1.4->ultralytics) (2024.1)\n",
            "Requirement already satisfied: charset-normalizer<4,>=2 in /usr/local/lib/python3.10/dist-packages (from requests>=2.23.0->ultralytics) (3.3.2)\n",
            "Requirement already satisfied: idna<4,>=2.5 in /usr/local/lib/python3.10/dist-packages (from requests>=2.23.0->ultralytics) (3.7)\n",
            "Requirement already satisfied: urllib3<3,>=1.21.1 in /usr/local/lib/python3.10/dist-packages (from requests>=2.23.0->ultralytics) (2.0.7)\n",
            "Requirement already satisfied: certifi>=2017.4.17 in /usr/local/lib/python3.10/dist-packages (from requests>=2.23.0->ultralytics) (2024.7.4)\n",
            "Requirement already satisfied: filelock in /usr/local/lib/python3.10/dist-packages (from torch>=1.8.0->ultralytics) (3.15.4)\n",
            "Requirement already satisfied: typing-extensions>=4.8.0 in /usr/local/lib/python3.10/dist-packages (from torch>=1.8.0->ultralytics) (4.12.2)\n",
            "Requirement already satisfied: sympy in /usr/local/lib/python3.10/dist-packages (from torch>=1.8.0->ultralytics) (1.13.1)\n",
            "Requirement already satisfied: networkx in /usr/local/lib/python3.10/dist-packages (from torch>=1.8.0->ultralytics) (3.3)\n",
            "Requirement already satisfied: jinja2 in /usr/local/lib/python3.10/dist-packages (from torch>=1.8.0->ultralytics) (3.1.4)\n",
            "Requirement already satisfied: fsspec in /usr/local/lib/python3.10/dist-packages (from torch>=1.8.0->ultralytics) (2024.6.1)\n",
            "Collecting nvidia-cuda-nvrtc-cu12==12.1.105 (from torch>=1.8.0->ultralytics)\n",
            "  Using cached nvidia_cuda_nvrtc_cu12-12.1.105-py3-none-manylinux1_x86_64.whl.metadata (1.5 kB)\n",
            "Collecting nvidia-cuda-runtime-cu12==12.1.105 (from torch>=1.8.0->ultralytics)\n",
            "  Using cached nvidia_cuda_runtime_cu12-12.1.105-py3-none-manylinux1_x86_64.whl.metadata (1.5 kB)\n",
            "Collecting nvidia-cuda-cupti-cu12==12.1.105 (from torch>=1.8.0->ultralytics)\n",
            "  Using cached nvidia_cuda_cupti_cu12-12.1.105-py3-none-manylinux1_x86_64.whl.metadata (1.6 kB)\n",
            "Collecting nvidia-cudnn-cu12==8.9.2.26 (from torch>=1.8.0->ultralytics)\n",
            "  Using cached nvidia_cudnn_cu12-8.9.2.26-py3-none-manylinux1_x86_64.whl.metadata (1.6 kB)\n",
            "Collecting nvidia-cublas-cu12==12.1.3.1 (from torch>=1.8.0->ultralytics)\n",
            "  Using cached nvidia_cublas_cu12-12.1.3.1-py3-none-manylinux1_x86_64.whl.metadata (1.5 kB)\n",
            "Collecting nvidia-cufft-cu12==11.0.2.54 (from torch>=1.8.0->ultralytics)\n",
            "  Using cached nvidia_cufft_cu12-11.0.2.54-py3-none-manylinux1_x86_64.whl.metadata (1.5 kB)\n",
            "Collecting nvidia-curand-cu12==10.3.2.106 (from torch>=1.8.0->ultralytics)\n",
            "  Using cached nvidia_curand_cu12-10.3.2.106-py3-none-manylinux1_x86_64.whl.metadata (1.5 kB)\n",
            "Collecting nvidia-cusolver-cu12==11.4.5.107 (from torch>=1.8.0->ultralytics)\n",
            "  Using cached nvidia_cusolver_cu12-11.4.5.107-py3-none-manylinux1_x86_64.whl.metadata (1.6 kB)\n",
            "Collecting nvidia-cusparse-cu12==12.1.0.106 (from torch>=1.8.0->ultralytics)\n",
            "  Using cached nvidia_cusparse_cu12-12.1.0.106-py3-none-manylinux1_x86_64.whl.metadata (1.6 kB)\n",
            "Collecting nvidia-nccl-cu12==2.20.5 (from torch>=1.8.0->ultralytics)\n",
            "  Using cached nvidia_nccl_cu12-2.20.5-py3-none-manylinux2014_x86_64.whl.metadata (1.8 kB)\n",
            "Collecting nvidia-nvtx-cu12==12.1.105 (from torch>=1.8.0->ultralytics)\n",
            "  Using cached nvidia_nvtx_cu12-12.1.105-py3-none-manylinux1_x86_64.whl.metadata (1.7 kB)\n",
            "Requirement already satisfied: triton==2.3.1 in /usr/local/lib/python3.10/dist-packages (from torch>=1.8.0->ultralytics) (2.3.1)\n",
            "Collecting nvidia-nvjitlink-cu12 (from nvidia-cusolver-cu12==11.4.5.107->torch>=1.8.0->ultralytics)\n",
            "  Using cached nvidia_nvjitlink_cu12-12.6.20-py3-none-manylinux2014_x86_64.whl.metadata (1.5 kB)\n",
            "Requirement already satisfied: six>=1.5 in /usr/local/lib/python3.10/dist-packages (from python-dateutil>=2.7->matplotlib>=3.3.0->ultralytics) (1.16.0)\n",
            "Requirement already satisfied: MarkupSafe>=2.0 in /usr/local/lib/python3.10/dist-packages (from jinja2->torch>=1.8.0->ultralytics) (2.1.5)\n",
            "Requirement already satisfied: mpmath<1.4,>=1.1.0 in /usr/local/lib/python3.10/dist-packages (from sympy->torch>=1.8.0->ultralytics) (1.3.0)\n",
            "Downloading ultralytics-8.2.79-py3-none-any.whl (869 kB)\n",
            "\u001b[2K   \u001b[90m━━━━━━━━━━━━━━━━━━━━━━━━━━━━━━━━━━━━━━━━\u001b[0m \u001b[32m869.1/869.1 kB\u001b[0m \u001b[31m5.7 MB/s\u001b[0m eta \u001b[36m0:00:00\u001b[0m\n",
            "\u001b[?25hUsing cached nvidia_cublas_cu12-12.1.3.1-py3-none-manylinux1_x86_64.whl (410.6 MB)\n",
            "Using cached nvidia_cuda_cupti_cu12-12.1.105-py3-none-manylinux1_x86_64.whl (14.1 MB)\n",
            "Using cached nvidia_cuda_nvrtc_cu12-12.1.105-py3-none-manylinux1_x86_64.whl (23.7 MB)\n",
            "Using cached nvidia_cuda_runtime_cu12-12.1.105-py3-none-manylinux1_x86_64.whl (823 kB)\n",
            "Using cached nvidia_cudnn_cu12-8.9.2.26-py3-none-manylinux1_x86_64.whl (731.7 MB)\n",
            "Using cached nvidia_cufft_cu12-11.0.2.54-py3-none-manylinux1_x86_64.whl (121.6 MB)\n",
            "Using cached nvidia_curand_cu12-10.3.2.106-py3-none-manylinux1_x86_64.whl (56.5 MB)\n",
            "Using cached nvidia_cusolver_cu12-11.4.5.107-py3-none-manylinux1_x86_64.whl (124.2 MB)\n",
            "Using cached nvidia_cusparse_cu12-12.1.0.106-py3-none-manylinux1_x86_64.whl (196.0 MB)\n",
            "Using cached nvidia_nccl_cu12-2.20.5-py3-none-manylinux2014_x86_64.whl (176.2 MB)\n",
            "Using cached nvidia_nvtx_cu12-12.1.105-py3-none-manylinux1_x86_64.whl (99 kB)\n",
            "Downloading ultralytics_thop-2.0.5-py3-none-any.whl (25 kB)\n",
            "Using cached nvidia_nvjitlink_cu12-12.6.20-py3-none-manylinux2014_x86_64.whl (19.7 MB)\n",
            "Installing collected packages: nvidia-nvtx-cu12, nvidia-nvjitlink-cu12, nvidia-nccl-cu12, nvidia-curand-cu12, nvidia-cufft-cu12, nvidia-cuda-runtime-cu12, nvidia-cuda-nvrtc-cu12, nvidia-cuda-cupti-cu12, nvidia-cublas-cu12, nvidia-cusparse-cu12, nvidia-cudnn-cu12, nvidia-cusolver-cu12, ultralytics-thop, ultralytics\n",
            "Successfully installed nvidia-cublas-cu12-12.1.3.1 nvidia-cuda-cupti-cu12-12.1.105 nvidia-cuda-nvrtc-cu12-12.1.105 nvidia-cuda-runtime-cu12-12.1.105 nvidia-cudnn-cu12-8.9.2.26 nvidia-cufft-cu12-11.0.2.54 nvidia-curand-cu12-10.3.2.106 nvidia-cusolver-cu12-11.4.5.107 nvidia-cusparse-cu12-12.1.0.106 nvidia-nccl-cu12-2.20.5 nvidia-nvjitlink-cu12-12.6.20 nvidia-nvtx-cu12-12.1.105 ultralytics-8.2.79 ultralytics-thop-2.0.5\n"
          ]
        }
      ],
      "source": [
        "!pip install ultralytics"
      ]
    },
    {
      "cell_type": "markdown",
      "metadata": {
        "id": "6xxRO4qPGocM"
      },
      "source": [
        "# **ANNOTATE IMAGES**"
      ]
    },
    {
      "cell_type": "code",
      "execution_count": null,
      "metadata": {
        "colab": {
          "background_save": true,
          "base_uri": "https://localhost:8080/"
        },
        "id": "IIs83zHyGfGk",
        "collapsed": true,
        "outputId": "a525142f-9453-4a55-d080-50102b33ba4b"
      },
      "outputs": [
        {
          "name": "stdout",
          "output_type": "stream",
          "text": [
            "Downloading https://github.com/ultralytics/assets/releases/download/v8.2.0/yolov8x.pt to 'yolov8x.pt'...\n"
          ]
        },
        {
          "name": "stderr",
          "output_type": "stream",
          "text": [
            "100%|██████████| 131M/131M [00:00<00:00, 195MB/s]\n"
          ]
        },
        {
          "name": "stdout",
          "output_type": "stream",
          "text": [
            "Downloading https://github.com/ultralytics/assets/releases/download/v8.2.0/sam_b.pt to 'sam_b.pt'...\n"
          ]
        },
        {
          "name": "stderr",
          "output_type": "stream",
          "text": [
            "100%|██████████| 358M/358M [00:01<00:00, 203MB/s]\n"
          ]
        },
        {
          "name": "stdout",
          "output_type": "stream",
          "text": [
            "\n",
            "image 1/30 /content/IMAGES_FOR_CREATING_TXT_ANNOTATIONS/Abyssinian_172.png: 640x640 1 cat, 6973.4ms\n",
            "image 2/30 /content/IMAGES_FOR_CREATING_TXT_ANNOTATIONS/Abyssinian_173.png: 640x640 1 cat, 1 dog, 1 bed, 4450.1ms\n",
            "image 3/30 /content/IMAGES_FOR_CREATING_TXT_ANNOTATIONS/Abyssinian_174.png: 640x640 1 cat, 4434.6ms\n",
            "image 4/30 /content/IMAGES_FOR_CREATING_TXT_ANNOTATIONS/Abyssinian_175.png: 640x640 1 cat, 5201.0ms\n",
            "image 5/30 /content/IMAGES_FOR_CREATING_TXT_ANNOTATIONS/Abyssinian_176.png: 640x640 1 cat, 5685.7ms\n",
            "image 6/30 /content/IMAGES_FOR_CREATING_TXT_ANNOTATIONS/British_Shorthair_10.jpg: 640x448 1 cat, 4364.6ms\n",
            "image 7/30 /content/IMAGES_FOR_CREATING_TXT_ANNOTATIONS/British_Shorthair_15.jpg: 480x640 1 cat, 3910.1ms\n",
            "image 8/30 /content/IMAGES_FOR_CREATING_TXT_ANNOTATIONS/British_Shorthair_16.jpg: 640x480 1 cat, 3302.1ms\n",
            "image 9/30 /content/IMAGES_FOR_CREATING_TXT_ANNOTATIONS/British_Shorthair_17.jpg: 448x640 1 cat, 3085.5ms\n",
            "image 10/30 /content/IMAGES_FOR_CREATING_TXT_ANNOTATIONS/British_Shorthair_18.jpg: 448x640 1 cat, 3155.8ms\n",
            "image 11/30 /content/IMAGES_FOR_CREATING_TXT_ANNOTATIONS/British_Shorthair_21.jpg: 640x448 1 cat, 3208.5ms\n",
            "image 12/30 /content/IMAGES_FOR_CREATING_TXT_ANNOTATIONS/British_Shorthair_22.jpg: 640x480 1 cat, 4607.9ms\n",
            "image 13/30 /content/IMAGES_FOR_CREATING_TXT_ANNOTATIONS/British_Shorthair_25.jpg: 544x640 1 cat, 4531.4ms\n",
            "image 14/30 /content/IMAGES_FOR_CREATING_TXT_ANNOTATIONS/British_Shorthair_26.jpg: 480x640 1 cat, 3292.2ms\n",
            "image 15/30 /content/IMAGES_FOR_CREATING_TXT_ANNOTATIONS/British_Shorthair_27.jpg: 640x480 1 cat, 3405.3ms\n",
            "image 16/30 /content/IMAGES_FOR_CREATING_TXT_ANNOTATIONS/British_Shorthair_28.jpg: 480x640 1 bench, 1 cat, 3321.0ms\n",
            "image 17/30 /content/IMAGES_FOR_CREATING_TXT_ANNOTATIONS/British_Shorthair_29.jpg: 448x640 1 cat, 3067.0ms\n",
            "image 18/30 /content/IMAGES_FOR_CREATING_TXT_ANNOTATIONS/British_Shorthair_3.jpg: 480x640 1 cat, 3326.2ms\n",
            "image 19/30 /content/IMAGES_FOR_CREATING_TXT_ANNOTATIONS/British_Shorthair_30.jpg: 640x480 1 cat, 1 bowl, 1 chair, 2 potted plants, 3394.6ms\n",
            "image 20/30 /content/IMAGES_FOR_CREATING_TXT_ANNOTATIONS/British_Shorthair_31.jpg: 448x640 1 cat, 3793.1ms\n",
            "image 21/30 /content/IMAGES_FOR_CREATING_TXT_ANNOTATIONS/British_Shorthair_32.jpg: 608x640 1 cat, 1 chair, 1 book, 5503.0ms\n",
            "image 22/30 /content/IMAGES_FOR_CREATING_TXT_ANNOTATIONS/British_Shorthair_33.jpg: 640x512 1 cat, 2 potted plants, 4729.8ms\n",
            "image 23/30 /content/IMAGES_FOR_CREATING_TXT_ANNOTATIONS/British_Shorthair_34.jpg: 480x640 1 cat, 3418.4ms\n",
            "image 24/30 /content/IMAGES_FOR_CREATING_TXT_ANNOTATIONS/British_Shorthair_36.jpg: 448x640 1 cat, 1 couch, 3063.0ms\n",
            "image 25/30 /content/IMAGES_FOR_CREATING_TXT_ANNOTATIONS/British_Shorthair_37.jpg: 480x640 1 bench, 1 cat, 3307.2ms\n",
            "image 26/30 /content/IMAGES_FOR_CREATING_TXT_ANNOTATIONS/British_Shorthair_38.jpg: 480x640 1 cat, 3298.9ms\n",
            "image 27/30 /content/IMAGES_FOR_CREATING_TXT_ANNOTATIONS/British_Shorthair_39.jpg: 608x640 1 cat, 1 potted plant, 5363.1ms\n",
            "image 28/30 /content/IMAGES_FOR_CREATING_TXT_ANNOTATIONS/British_Shorthair_6.jpg: 480x640 1 cat, 4456.8ms\n",
            "image 29/30 /content/IMAGES_FOR_CREATING_TXT_ANNOTATIONS/British_Shorthair_8.jpg: 640x480 1 cat, 4318.3ms\n",
            "image 30/30 /content/IMAGES_FOR_CREATING_TXT_ANNOTATIONS/British_Shorthair_9.jpg: 512x640 1 cat, 3563.5ms\n",
            "Speed: 3.8ms preprocess, 4051.1ms inference, 2.5ms postprocess per image at shape (1, 3, 512, 640)\n"
          ]
        }
      ],
      "source": [
        "from ultralytics.data.annotator import auto_annotate\n",
        "\n",
        "auto_annotate(data=\"/content/IMAGES_FOR_CREATING_TXT_ANNOTATIONS\", det_model=\"yolov8x.pt\", sam_model=\"sam_b.pt\")"
      ]
    },
    {
      "cell_type": "markdown",
      "metadata": {
        "id": "UYnk4jRBHxQ3"
      },
      "source": [
        "# **SEGMENT USING BBOX**"
      ]
    },
    {
      "cell_type": "code",
      "execution_count": 12,
      "metadata": {
        "id": "lCbGCeNCH2C8",
        "colab": {
          "base_uri": "https://localhost:8080/"
        },
        "collapsed": true,
        "outputId": "4666b401-7a0d-4f7a-961b-3a19372501ed"
      },
      "outputs": [
        {
          "output_type": "stream",
          "name": "stdout",
          "text": [
            "\n",
            "image 1/1 /content/IMAGES_FOR_CREATING_TXT_ANNOTATIONS/Abyssinian_172.png: 1024x1024 34133.7ms\n",
            "Speed: 17.3ms preprocess, 34133.7ms inference, 2.4ms postprocess per image at shape (1, 3, 1024, 1024)\n",
            "\n",
            "image 1/1 /content/IMAGES_FOR_CREATING_TXT_ANNOTATIONS/Abyssinian_172.png: 1024x1024 32163.6ms\n",
            "Speed: 12.9ms preprocess, 32163.6ms inference, 2.5ms postprocess per image at shape (1, 3, 1024, 1024)\n"
          ]
        },
        {
          "output_type": "execute_result",
          "data": {
            "text/plain": [
              "[ultralytics.engine.results.Results object with attributes:\n",
              " \n",
              " boxes: None\n",
              " keypoints: None\n",
              " masks: ultralytics.engine.results.Masks object\n",
              " names: {0: '0'}\n",
              " obb: None\n",
              " orig_img: array([[[231, 228, 220],\n",
              "         [232, 230, 222],\n",
              "         [233, 231, 222],\n",
              "         ...,\n",
              "         [223, 221, 216],\n",
              "         [225, 222, 217],\n",
              "         [227, 224, 219]],\n",
              " \n",
              "        [[232, 229, 221],\n",
              "         [231, 228, 220],\n",
              "         [231, 228, 220],\n",
              "         ...,\n",
              "         [227, 224, 220],\n",
              "         [228, 224, 219],\n",
              "         [227, 224, 219]],\n",
              " \n",
              "        [[231, 228, 220],\n",
              "         [231, 228, 220],\n",
              "         [231, 228, 220],\n",
              "         ...,\n",
              "         [226, 223, 219],\n",
              "         [226, 223, 218],\n",
              "         [228, 225, 220]],\n",
              " \n",
              "        ...,\n",
              " \n",
              "        [[222, 214, 207],\n",
              "         [221, 213, 206],\n",
              "         [220, 212, 206],\n",
              "         ...,\n",
              "         [214, 207, 201],\n",
              "         [211, 205, 198],\n",
              "         [211, 204, 197]],\n",
              " \n",
              "        [[221, 213, 206],\n",
              "         [221, 213, 206],\n",
              "         [221, 213, 206],\n",
              "         ...,\n",
              "         [211, 205, 198],\n",
              "         [209, 203, 196],\n",
              "         [210, 204, 197]],\n",
              " \n",
              "        [[219, 210, 203],\n",
              "         [220, 212, 205],\n",
              "         [220, 212, 205],\n",
              "         ...,\n",
              "         [211, 207, 199],\n",
              "         [210, 206, 198],\n",
              "         [210, 207, 199]]], dtype=uint8)\n",
              " orig_shape: (500, 500)\n",
              " path: '/content/IMAGES_FOR_CREATING_TXT_ANNOTATIONS/Abyssinian_172.png'\n",
              " probs: None\n",
              " save_dir: 'runs/segment/predict'\n",
              " speed: {'preprocess': 12.907028198242188, 'inference': 32163.591146469116, 'postprocess': 2.4971961975097656}]"
            ]
          },
          "metadata": {},
          "execution_count": 12
        }
      ],
      "source": [
        "from ultralytics import SAM\n",
        "\n",
        "# Load a model\n",
        "model = SAM(\"sam_b.pt\")\n",
        "\n",
        "# Segment with bounding box prompt\n",
        "model(\"/content/IMAGES_FOR_CREATING_TXT_ANNOTATIONS/Abyssinian_172.png\", bboxes=[100, 100, 300, 300])\n",
        "\n",
        "# Segment with points prompt\n",
        "model(\"/content/IMAGES_FOR_CREATING_TXT_ANNOTATIONS/Abyssinian_172.png\", points=[200, 370], labels=[1])"
      ]
    },
    {
      "cell_type": "markdown",
      "metadata": {
        "id": "_3bo-C5ZFx59"
      },
      "source": [
        "# **DOWNLOAD FILES**"
      ]
    },
    {
      "cell_type": "code",
      "execution_count": 7,
      "metadata": {
        "id": "bq75d8sEFwhc"
      },
      "outputs": [],
      "source": [
        "use_google_colab = True\n",
        "if use_google_colab:\n",
        "    from google.colab import drive\n",
        "    from google.colab import files\n",
        "    # Mount your Google Drive on your runtime\n",
        "    # drive.mount('/content/gdrive')"
      ]
    },
    {
      "cell_type": "code",
      "execution_count": 6,
      "metadata": {
        "id": "G3d2PUztG9TH",
        "colab": {
          "base_uri": "https://localhost:8080/"
        },
        "collapsed": true,
        "outputId": "705d6fe5-08d4-46fb-a395-34da5f092456"
      },
      "outputs": [
        {
          "output_type": "stream",
          "name": "stdout",
          "text": [
            "  adding: content/IMAGES_FOR_CREATING_TXT_ANNOTATIONS_auto_annotate_labels/ (stored 0%)\n",
            "  adding: content/IMAGES_FOR_CREATING_TXT_ANNOTATIONS_auto_annotate_labels/British_Shorthair_8.txt (deflated 78%)\n",
            "  adding: content/IMAGES_FOR_CREATING_TXT_ANNOTATIONS_auto_annotate_labels/British_Shorthair_3.txt (deflated 76%)\n",
            "  adding: content/IMAGES_FOR_CREATING_TXT_ANNOTATIONS_auto_annotate_labels/British_Shorthair_34.txt (deflated 78%)\n",
            "  adding: content/IMAGES_FOR_CREATING_TXT_ANNOTATIONS_auto_annotate_labels/British_Shorthair_22.txt (deflated 74%)\n",
            "  adding: content/IMAGES_FOR_CREATING_TXT_ANNOTATIONS_auto_annotate_labels/British_Shorthair_15.txt (deflated 79%)\n",
            "  adding: content/IMAGES_FOR_CREATING_TXT_ANNOTATIONS_auto_annotate_labels/British_Shorthair_29.txt (deflated 74%)\n",
            "  adding: content/IMAGES_FOR_CREATING_TXT_ANNOTATIONS_auto_annotate_labels/Abyssinian_173.txt (deflated 87%)\n",
            "  adding: content/IMAGES_FOR_CREATING_TXT_ANNOTATIONS_auto_annotate_labels/Abyssinian_174.txt (deflated 87%)\n",
            "  adding: content/IMAGES_FOR_CREATING_TXT_ANNOTATIONS_auto_annotate_labels/British_Shorthair_17.txt (deflated 78%)\n",
            "  adding: content/IMAGES_FOR_CREATING_TXT_ANNOTATIONS_auto_annotate_labels/Abyssinian_172.txt (deflated 84%)\n",
            "  adding: content/IMAGES_FOR_CREATING_TXT_ANNOTATIONS_auto_annotate_labels/British_Shorthair_25.txt (deflated 77%)\n",
            "  adding: content/IMAGES_FOR_CREATING_TXT_ANNOTATIONS_auto_annotate_labels/British_Shorthair_26.txt (deflated 76%)\n",
            "  adding: content/IMAGES_FOR_CREATING_TXT_ANNOTATIONS_auto_annotate_labels/Abyssinian_176.txt (deflated 83%)\n",
            "  adding: content/IMAGES_FOR_CREATING_TXT_ANNOTATIONS_auto_annotate_labels/British_Shorthair_37.txt (deflated 81%)\n",
            "  adding: content/IMAGES_FOR_CREATING_TXT_ANNOTATIONS_auto_annotate_labels/British_Shorthair_18.txt (deflated 78%)\n",
            "  adding: content/IMAGES_FOR_CREATING_TXT_ANNOTATIONS_auto_annotate_labels/British_Shorthair_28.txt (deflated 82%)\n",
            "  adding: content/IMAGES_FOR_CREATING_TXT_ANNOTATIONS_auto_annotate_labels/British_Shorthair_27.txt (deflated 79%)\n",
            "  adding: content/IMAGES_FOR_CREATING_TXT_ANNOTATIONS_auto_annotate_labels/British_Shorthair_9.txt (deflated 79%)\n",
            "  adding: content/IMAGES_FOR_CREATING_TXT_ANNOTATIONS_auto_annotate_labels/British_Shorthair_6.txt (deflated 76%)\n",
            "  adding: content/IMAGES_FOR_CREATING_TXT_ANNOTATIONS_auto_annotate_labels/British_Shorthair_10.txt (deflated 74%)\n",
            "  adding: content/IMAGES_FOR_CREATING_TXT_ANNOTATIONS_auto_annotate_labels/British_Shorthair_33.txt (deflated 81%)\n",
            "  adding: content/IMAGES_FOR_CREATING_TXT_ANNOTATIONS_auto_annotate_labels/British_Shorthair_31.txt (deflated 80%)\n",
            "  adding: content/IMAGES_FOR_CREATING_TXT_ANNOTATIONS_auto_annotate_labels/British_Shorthair_39.txt (deflated 81%)\n",
            "  adding: content/IMAGES_FOR_CREATING_TXT_ANNOTATIONS_auto_annotate_labels/British_Shorthair_30.txt (deflated 82%)\n",
            "  adding: content/IMAGES_FOR_CREATING_TXT_ANNOTATIONS_auto_annotate_labels/British_Shorthair_32.txt (deflated 81%)\n",
            "  adding: content/IMAGES_FOR_CREATING_TXT_ANNOTATIONS_auto_annotate_labels/Abyssinian_175.txt (deflated 83%)\n",
            "  adding: content/IMAGES_FOR_CREATING_TXT_ANNOTATIONS_auto_annotate_labels/British_Shorthair_36.txt (deflated 80%)\n",
            "  adding: content/IMAGES_FOR_CREATING_TXT_ANNOTATIONS_auto_annotate_labels/British_Shorthair_38.txt (deflated 80%)\n",
            "  adding: content/IMAGES_FOR_CREATING_TXT_ANNOTATIONS_auto_annotate_labels/British_Shorthair_21.txt (deflated 76%)\n",
            "  adding: content/IMAGES_FOR_CREATING_TXT_ANNOTATIONS_auto_annotate_labels/British_Shorthair_16.txt (deflated 81%)\n"
          ]
        }
      ],
      "source": [
        "!zip -r /content/txt_annotation.zip /content/IMAGES_FOR_CREATING_TXT_ANNOTATIONS_auto_annotate_labels"
      ]
    },
    {
      "cell_type": "code",
      "execution_count": 8,
      "metadata": {
        "colab": {
          "base_uri": "https://localhost:8080/",
          "height": 34
        },
        "id": "uZZH35MgF9w4",
        "outputId": "515bbb76-1790-40f9-bc43-848f9c1a7676"
      },
      "outputs": [
        {
          "output_type": "stream",
          "name": "stdout",
          "text": [
            "TRUE\n"
          ]
        },
        {
          "output_type": "display_data",
          "data": {
            "text/plain": [
              "<IPython.core.display.Javascript object>"
            ],
            "application/javascript": [
              "\n",
              "    async function download(id, filename, size) {\n",
              "      if (!google.colab.kernel.accessAllowed) {\n",
              "        return;\n",
              "      }\n",
              "      const div = document.createElement('div');\n",
              "      const label = document.createElement('label');\n",
              "      label.textContent = `Downloading \"${filename}\": `;\n",
              "      div.appendChild(label);\n",
              "      const progress = document.createElement('progress');\n",
              "      progress.max = size;\n",
              "      div.appendChild(progress);\n",
              "      document.body.appendChild(div);\n",
              "\n",
              "      const buffers = [];\n",
              "      let downloaded = 0;\n",
              "\n",
              "      const channel = await google.colab.kernel.comms.open(id);\n",
              "      // Send a message to notify the kernel that we're ready.\n",
              "      channel.send({})\n",
              "\n",
              "      for await (const message of channel.messages) {\n",
              "        // Send a message to notify the kernel that we're ready.\n",
              "        channel.send({})\n",
              "        if (message.buffers) {\n",
              "          for (const buffer of message.buffers) {\n",
              "            buffers.push(buffer);\n",
              "            downloaded += buffer.byteLength;\n",
              "            progress.value = downloaded;\n",
              "          }\n",
              "        }\n",
              "      }\n",
              "      const blob = new Blob(buffers, {type: 'application/binary'});\n",
              "      const a = document.createElement('a');\n",
              "      a.href = window.URL.createObjectURL(blob);\n",
              "      a.download = filename;\n",
              "      div.appendChild(a);\n",
              "      a.click();\n",
              "      div.remove();\n",
              "    }\n",
              "  "
            ]
          },
          "metadata": {}
        },
        {
          "output_type": "display_data",
          "data": {
            "text/plain": [
              "<IPython.core.display.Javascript object>"
            ],
            "application/javascript": [
              "download(\"download_2e627016-6bba-436f-917a-532e1d6978b1\", \"txt_annotation.zip\", 174337)"
            ]
          },
          "metadata": {}
        }
      ],
      "source": [
        "if use_google_colab:\n",
        "  print(\"TRUE\")\n",
        "  files.download('/content/txt_annotation.zip')"
      ]
    },
    {
      "cell_type": "code",
      "source": [],
      "metadata": {
        "id": "O4sA84j5Ng0S"
      },
      "execution_count": null,
      "outputs": []
    }
  ],
  "metadata": {
    "accelerator": "GPU",
    "colab": {
      "gpuType": "T4",
      "provenance": []
    },
    "kernelspec": {
      "display_name": "Python 3",
      "name": "python3"
    },
    "language_info": {
      "name": "python"
    }
  },
  "nbformat": 4,
  "nbformat_minor": 0
}